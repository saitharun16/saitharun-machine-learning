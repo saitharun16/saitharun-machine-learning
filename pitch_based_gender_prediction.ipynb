{
 "cells": [
  {
   "cell_type": "code",
   "execution_count": 24,
   "metadata": {},
   "outputs": [],
   "source": [
    "import librosa\n",
    "import numpy as np\n",
    "def extract_features(audio_path):\n",
    "    # Load audio file\n",
    "    y, sr = librosa.load(audio_path)\n",
    "    y_trimmed, _ = librosa.effects.trim(y, top_db=30)\n",
    "    # Extract pitch (fundamental frequency)\n",
    "    pitches, magnitudes = librosa.piptrack(y=y_trimmed, sr=sr)\n",
    "    pitch_values = [pitches[magnitudes[:, t].argmax(), t] for t in range(pitches.shape[1]) if pitches[magnitudes[:, t].argmax(), t] > 0]\n",
    "    avg_pitch = np.mean(pitch_values) if pitch_values else 0\n",
    "    \n",
    "    # Extract MFCC features (13 coefficients)\n",
    "    mfccs = librosa.feature.mfcc(y=y_trimmed, sr=sr, n_mfcc=13)\n",
    "    mfcc_mean = np.mean(mfccs.T, axis=0)\n",
    "\n",
    "    # #Extract mel spectrogram features\n",
    "    # mel_spectrogram = librosa.feature.melspectrogram(y=y, sr=sr, n_mels=128)\n",
    "    # mel_mean = np.mean(mel_spectrogram.T, axis=0) \n",
    "    \n",
    "    # Combine pitch and MFCCs into a single feature vector\n",
    "    features = np.hstack([avg_pitch, mfcc_mean])\n",
    "    \n",
    "    return features"
   ]
  },
  {
   "cell_type": "code",
   "execution_count": 25,
   "metadata": {},
   "outputs": [
    {
     "name": "stdout",
     "output_type": "stream",
     "text": [
      "Accuracy of Gender Prediction: 78.75%\n"
     ]
    }
   ],
   "source": [
    "from sklearn.cluster import KMeans\n",
    "import numpy as np\n",
    "from glob import glob\n",
    "from sklearn.preprocessing import StandardScaler\n",
    "from sklearn.metrics import accuracy_score\n",
    "import os\n",
    "\n",
    "# Assuming you have a function to extract features from audio files\n",
    "# and a list that contains the actual gender labels (male = 0, female = 1)\n",
    "# For example: actual_genders = [0, 1, 0, 1, ...] corresponding to audio files\n",
    "\n",
    "audio_files = glob('C:/Users/saith/OneDrive/Desktop/DWDM/ravdess/*/*.wav')\n",
    "\n",
    "actual_genders = []\n",
    "for audio in audio_files:\n",
    "    filename=os.path.basename(audio).split('/')[-1]\n",
    "    parts=filename.split('-')\n",
    "    actor_id=parts[6].split('.')[0]\n",
    "    if int(actor_id) %2!=0:\n",
    "        actual_genders.append(\"Male\")\n",
    "    else:\n",
    "        actual_genders.append(\"Female\")\n",
    "\n",
    "# Extract features for each audio file\n",
    "feature_data = np.array([extract_features(audio_file) for audio_file in audio_files])\n",
    "\n",
    "# Standardize features\n",
    "scaler = StandardScaler()\n",
    "feature_data = scaler.fit_transform(feature_data)\n",
    "\n",
    "# Apply KMeans with 2 clusters (for male and female)\n",
    "kmeans = KMeans(n_clusters=2, random_state=42)\n",
    "kmeans.fit(feature_data)\n",
    "\n",
    "# Get the cluster labels (0 or 1 for two clusters)\n",
    "labels = kmeans.labels_\n",
    "\n",
    "# Get the cluster centers (mean of the features in each cluster)\n",
    "cluster_centers = kmeans.cluster_centers_\n",
    "\n",
    "# Use domain knowledge to assign gender labels\n",
    "# Typically, the cluster with the lower average pitch will correspond to male\n",
    "if cluster_centers[0][0] < cluster_centers[1][0]:  # Compare based on average pitch\n",
    "    gender_map = {0: \"Male\", 1: \"Female\"}\n",
    "else:\n",
    "    gender_map = {0: \"Female\", 1: \"Male\"}\n",
    "\n",
    "# Predict gender for each data point\n",
    "predicted_genders = [\"Male\" if gender_map[label] == \"Male\" else \"Female\" for label in labels]\n",
    "\n",
    "# Calculate the accuracy of the prediction\n",
    "accuracy = accuracy_score(actual_genders, predicted_genders)\n",
    "\n",
    "# Output the accuracy\n",
    "print(f\"Accuracy of Gender Prediction: {accuracy * 100:.2f}%\")\n"
   ]
  }
 ],
 "metadata": {
  "kernelspec": {
   "display_name": "Python 3",
   "language": "python",
   "name": "python3"
  },
  "language_info": {
   "codemirror_mode": {
    "name": "ipython",
    "version": 3
   },
   "file_extension": ".py",
   "mimetype": "text/x-python",
   "name": "python",
   "nbconvert_exporter": "python",
   "pygments_lexer": "ipython3",
   "version": "3.12.5"
  }
 },
 "nbformat": 4,
 "nbformat_minor": 2
}
