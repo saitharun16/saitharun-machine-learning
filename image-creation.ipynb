{
 "cells": [
  {
   "cell_type": "code",
   "execution_count": null,
   "metadata": {},
   "outputs": [],
   "source": [
    "import os\n",
    "import cv2\n",
    "from glob import  glob\n",
    "import librosa\n",
    "import matplotlib.pyplot as plt\n",
    "import numpy as np\n",
    "audio_files=glob('C:/Users/saith/OneDrive/Desktop/DWDM/ravdess/*/*.wav')\n",
    "emotion_map = {\n",
    "    '01': 'neutral',\n",
    "    '02': 'calm',\n",
    "    '03': 'happy',\n",
    "    '04': 'sad',\n",
    "    '05': 'angry',\n",
    "    '06': 'fearful',\n",
    "    '07': 'disgust',\n",
    "    '08': 'surprised'\n",
    "}\n",
    "count=1\n",
    "\n",
    "for audio in audio_files:\n",
    "    y, sr = librosa.load(audio)\n",
    "    filename=os.path.basename(audio).split('/')[-1]\n",
    "    parts = filename.split('-')\n",
    "    emotion = emotion_map[parts[2]]\n",
    "    # Generate spectrogram  \n",
    "    spectrogram = librosa.feature.melspectrogram(y=y, sr=sr, n_mels=128)\n",
    "    # Convert spectrogram to image\n",
    "    spectrogram_db = librosa.power_to_db(spectrogram)\n",
    "    #generate mfcc\n",
    "    mfcc = librosa.feature.mfcc(y=y, sr=sr, n_mfcc=20)\n",
    "    # Save MFCC and Mel spectrogram as high-quality images\n",
    "    plt.figure(figsize=(10, 4))\n",
    "    librosa.display.specshow(spectrogram_db, sr=sr)\n",
    "    plt.tight_layout()\n",
    "    # Save image to directory\n",
    "    plt.savefig(\"spectrogram.png\")\n",
    "    plt.figure(figsize=(10,4))\n",
    "    librosa.display.specshow(mfcc, sr=sr)\n",
    "    plt.savefig(\"mfcc.png\")\n",
    "    image1 = cv2.imread('mfcc.png')\n",
    "    image2 = cv2.imread('spectrogram.png')\n",
    "    image2 = cv2.resize(image2, (image1.shape[1], image1.shape[0]))\n",
    "    plt.close(\"spectrogram.png\")\n",
    "    plt.close(\"mfcc.png\")\n",
    "    horizontal_combined = np.hstack((image1, image2))\n",
    "    cv2.imwrite(\"C:/Users/saith/OneDrive/Desktop/DWDM/Images/\"+emotion+\"-\"+str(count)+\".png\", horizontal_combined)\n",
    "    count+=1\n",
    "\n",
    "print(\"sucess \")"
   ]
  }
 ],
 "metadata": {
  "kernelspec": {
   "display_name": "Python 3",
   "language": "python",
   "name": "python3"
  },
  "language_info": {
   "codemirror_mode": {
    "name": "ipython",
    "version": 3
   },
   "file_extension": ".py",
   "mimetype": "text/x-python",
   "name": "python",
   "nbconvert_exporter": "python",
   "pygments_lexer": "ipython3",
   "version": "3.12.5"
  }
 },
 "nbformat": 4,
 "nbformat_minor": 2
}
